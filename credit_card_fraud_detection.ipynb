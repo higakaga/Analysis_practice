{
 "cells": [
  {
   "cell_type": "markdown",
   "id": "59bfec77",
   "metadata": {},
   "source": [
    "## 데이터 불러오기"
   ]
  },
  {
   "cell_type": "code",
   "execution_count": 1,
   "id": "48aa2b1c-6040-4ceb-9091-8bdad9ca4664",
   "metadata": {},
   "outputs": [],
   "source": [
    "import pandas as pd"
   ]
  },
  {
   "cell_type": "code",
   "execution_count": 2,
   "id": "711f3f3a-4af9-45e5-867e-157dbbd154a5",
   "metadata": {},
   "outputs": [
    {
     "name": "stdout",
     "output_type": "stream",
     "text": [
      "   Time        V1        V2        V3        V4        V5        V6        V7  \\\n",
      "0   0.0 -1.359807 -0.072781  2.536347  1.378155 -0.338321  0.462388  0.239599   \n",
      "1   0.0  1.191857  0.266151  0.166480  0.448154  0.060018 -0.082361 -0.078803   \n",
      "2   1.0 -1.358354 -1.340163  1.773209  0.379780 -0.503198  1.800499  0.791461   \n",
      "3   1.0 -0.966272 -0.185226  1.792993 -0.863291 -0.010309  1.247203  0.237609   \n",
      "4   2.0 -1.158233  0.877737  1.548718  0.403034 -0.407193  0.095921  0.592941   \n",
      "\n",
      "         V8        V9  ...       V21       V22       V23       V24       V25  \\\n",
      "0  0.098698  0.363787  ... -0.018307  0.277838 -0.110474  0.066928  0.128539   \n",
      "1  0.085102 -0.255425  ... -0.225775 -0.638672  0.101288 -0.339846  0.167170   \n",
      "2  0.247676 -1.514654  ...  0.247998  0.771679  0.909412 -0.689281 -0.327642   \n",
      "3  0.377436 -1.387024  ... -0.108300  0.005274 -0.190321 -1.175575  0.647376   \n",
      "4 -0.270533  0.817739  ... -0.009431  0.798278 -0.137458  0.141267 -0.206010   \n",
      "\n",
      "        V26       V27       V28  Amount  Class  \n",
      "0 -0.189115  0.133558 -0.021053  149.62      0  \n",
      "1  0.125895 -0.008983  0.014724    2.69      0  \n",
      "2 -0.139097 -0.055353 -0.059752  378.66      0  \n",
      "3 -0.221929  0.062723  0.061458  123.50      0  \n",
      "4  0.502292  0.219422  0.215153   69.99      0  \n",
      "\n",
      "[5 rows x 31 columns]\n"
     ]
    }
   ],
   "source": [
    "# CSV 불러오기\n",
    "df = pd.read_csv('./csv/creditcard.csv')\n",
    "# 상위 5개 행\n",
    "print(df.head())"
   ]
  },
  {
   "cell_type": "markdown",
   "id": "f02f64de",
   "metadata": {},
   "source": [
    "## 데이터 기본 정보 확인"
   ]
  },
  {
   "cell_type": "code",
   "execution_count": 3,
   "id": "c7104ad9-64f3-4d70-b6df-1a8cc0b8d205",
   "metadata": {},
   "outputs": [
    {
     "name": "stdout",
     "output_type": "stream",
     "text": [
      "<class 'pandas.core.frame.DataFrame'>\n",
      "RangeIndex: 284807 entries, 0 to 284806\n",
      "Data columns (total 31 columns):\n",
      " #   Column  Non-Null Count   Dtype  \n",
      "---  ------  --------------   -----  \n",
      " 0   Time    284807 non-null  float64\n",
      " 1   V1      284807 non-null  float64\n",
      " 2   V2      284807 non-null  float64\n",
      " 3   V3      284807 non-null  float64\n",
      " 4   V4      284807 non-null  float64\n",
      " 5   V5      284807 non-null  float64\n",
      " 6   V6      284807 non-null  float64\n",
      " 7   V7      284807 non-null  float64\n",
      " 8   V8      284807 non-null  float64\n",
      " 9   V9      284807 non-null  float64\n",
      " 10  V10     284807 non-null  float64\n",
      " 11  V11     284807 non-null  float64\n",
      " 12  V12     284807 non-null  float64\n",
      " 13  V13     284807 non-null  float64\n",
      " 14  V14     284807 non-null  float64\n",
      " 15  V15     284807 non-null  float64\n",
      " 16  V16     284807 non-null  float64\n",
      " 17  V17     284807 non-null  float64\n",
      " 18  V18     284807 non-null  float64\n",
      " 19  V19     284807 non-null  float64\n",
      " 20  V20     284807 non-null  float64\n",
      " 21  V21     284807 non-null  float64\n",
      " 22  V22     284807 non-null  float64\n",
      " 23  V23     284807 non-null  float64\n",
      " 24  V24     284807 non-null  float64\n",
      " 25  V25     284807 non-null  float64\n",
      " 26  V26     284807 non-null  float64\n",
      " 27  V27     284807 non-null  float64\n",
      " 28  V28     284807 non-null  float64\n",
      " 29  Amount  284807 non-null  float64\n",
      " 30  Class   284807 non-null  int64  \n",
      "dtypes: float64(30), int64(1)\n",
      "memory usage: 67.4 MB\n"
     ]
    }
   ],
   "source": [
    "# 데이터프레임 정보 확인\n",
    "df.info()"
   ]
  },
  {
   "cell_type": "code",
   "execution_count": 4,
   "id": "74c99c51-2a62-4c44-b733-03ce6b3566dd",
   "metadata": {},
   "outputs": [
    {
     "name": "stdout",
     "output_type": "stream",
     "text": [
      "Time      0\n",
      "V1        0\n",
      "V2        0\n",
      "V3        0\n",
      "V4        0\n",
      "V5        0\n",
      "V6        0\n",
      "V7        0\n",
      "V8        0\n",
      "V9        0\n",
      "V10       0\n",
      "V11       0\n",
      "V12       0\n",
      "V13       0\n",
      "V14       0\n",
      "V15       0\n",
      "V16       0\n",
      "V17       0\n",
      "V18       0\n",
      "V19       0\n",
      "V20       0\n",
      "V21       0\n",
      "V22       0\n",
      "V23       0\n",
      "V24       0\n",
      "V25       0\n",
      "V26       0\n",
      "V27       0\n",
      "V28       0\n",
      "Amount    0\n",
      "Class     0\n",
      "dtype: int64\n"
     ]
    }
   ],
   "source": [
    "# 결측치 확인\n",
    "print(df.isnull().sum())"
   ]
  },
  {
   "cell_type": "markdown",
   "id": "5b16dbe1",
   "metadata": {},
   "source": [
    "## 클래스 불균형 확인"
   ]
  },
  {
   "cell_type": "code",
   "execution_count": 5,
   "id": "39c38fac-1532-4a0c-88f3-419310b7c57d",
   "metadata": {},
   "outputs": [
    {
     "name": "stdout",
     "output_type": "stream",
     "text": [
      "Class\n",
      "0    284315\n",
      "1       492\n",
      "Name: count, dtype: int64\n"
     ]
    }
   ],
   "source": [
    "# 라벨 분포 확인\n",
    "print(df['Class'].value_counts())"
   ]
  },
  {
   "cell_type": "code",
   "execution_count": 6,
   "id": "cd1460b3-e1a2-4284-802e-afc4018d29a5",
   "metadata": {},
   "outputs": [
    {
     "name": "stdout",
     "output_type": "stream",
     "text": [
      "Class\n",
      "0    0.998273\n",
      "1    0.001727\n",
      "Name: proportion, dtype: float64\n"
     ]
    }
   ],
   "source": [
    "# 비율 확인\n",
    "fraud_ratio = df['Class'].value_counts(normalize=True)\n",
    "print(fraud_ratio)"
   ]
  },
  {
   "cell_type": "code",
   "execution_count": 7,
   "id": "4873182d-9965-47a7-b0e1-d1a25c460758",
   "metadata": {},
   "outputs": [],
   "source": [
    "import matplotlib.pyplot as plt"
   ]
  },
  {
   "cell_type": "code",
   "execution_count": 8,
   "id": "eec967dc-9265-462a-8fa0-66b36ca6d6e1",
   "metadata": {},
   "outputs": [
    {
     "data": {
      "image/png": "[encoded data removed]",
      "text/plain": [
       "<Figure size 500x400 with 1 Axes>"
      ]
     },
     "metadata": {},
     "output_type": "display_data"
    }
   ],
   "source": [
    "# 비율 시각화\n",
    "plt.figure(figsize=(5,4))\n",
    "df['Class'].value_counts().plot(kind='bar', color=['skyblue', 'salmon'])\n",
    "plt.xticks([0,1], ['Normal', 'Fraud'], rotation=0)\n",
    "plt.title('Transaction Class Distribution')\n",
    "plt.ylabel('Count')\n",
    "plt.show()"
   ]
  },
  {
   "cell_type": "markdown",
   "id": "4b21fac6",
   "metadata": {},
   "source": [
    "## 거래 금액과 시간 분포"
   ]
  },
  {
   "cell_type": "code",
   "execution_count": 9,
   "id": "a4f6024c-289f-4946-bdb4-085118092fdd",
   "metadata": {},
   "outputs": [],
   "source": [
    "import seaborn as sns"
   ]
  },
  {
   "cell_type": "code",
   "execution_count": 10,
   "id": "91676ae2-df3d-48b9-ba55-b875fd1593c9",
   "metadata": {},
   "outputs": [
    {
     "data": {
      "image/png": "[encoded data removed]",
      "text/plain": [
       "<Figure size 600x400 with 1 Axes>"
      ]
     },
     "metadata": {},
     "output_type": "display_data"
    }
   ],
   "source": [
    "# 거래 금액 분포\n",
    "plt.figure(figsize=(6,4))\n",
    "sns.histplot(df['Amount'], bins=100, kde=True)\n",
    "plt.title('Transaction Amount Distribution')\n",
    "plt.show()"
   ]
  },
  {
   "cell_type": "code",
   "execution_count": 11,
   "id": "496e05cc-7d70-48f5-8645-9043170516ad",
   "metadata": {},
   "outputs": [
    {
     "data": {
      "image/png": "[encoded data removed]",
      "text/plain": [
       "<Figure size 600x400 with 1 Axes>"
      ]
     },
     "metadata": {},
     "output_type": "display_data"
    }
   ],
   "source": [
    "# 시간 분포\n",
    "plt.figure(figsize=(6,4))\n",
    "sns.histplot(df['Time'], bins=100, kde=True)\n",
    "plt.title('Transaction Time Distribution')\n",
    "plt.xlabel('Seconds since first transaction')\n",
    "plt.show()"
   ]
  },
  {
   "cell_type": "markdown",
   "id": "46e31ea2",
   "metadata": {},
   "source": [
    "## 사기 거래와 정상 거래의 특성 비교"
   ]
  },
  {
   "cell_type": "code",
   "execution_count": 12,
   "id": "b54ddbc2-147c-4217-9c8b-aab1de072cca",
   "metadata": {},
   "outputs": [],
   "source": [
    "# 사기 거래와 정상 거래 나누기\n",
    "fraud = df[df['Class'] == 1]\n",
    "normal = df[df['Class'] == 0]"
   ]
  },
  {
   "cell_type": "code",
   "execution_count": 13,
   "id": "7b6f780b-3204-4623-aa5e-e394373cf24c",
   "metadata": {},
   "outputs": [
    {
     "name": "stdout",
     "output_type": "stream",
     "text": [
      "평균 금액 (정상): 88.29102242231328\n",
      "평균 금액 (사기): 122.21132113821139\n"
     ]
    }
   ],
   "source": [
    "# 금액 비교\n",
    "print(\"평균 금액 (정상):\", normal['Amount'].mean())\n",
    "print(\"평균 금액 (사기):\", fraud['Amount'].mean())"
   ]
  },
  {
   "cell_type": "code",
   "execution_count": 14,
   "id": "28ce9bc1-1d32-48f6-943d-78c627ef7104",
   "metadata": {},
   "outputs": [
    {
     "data": {
      "image/png": "[encoded data removed]",
      "text/plain": [
       "<Figure size 600x400 with 1 Axes>"
      ]
     },
     "metadata": {},
     "output_type": "display_data"
    }
   ],
   "source": [
    "# 금액 비교 시각화\n",
    "plt.figure(figsize=(6,4))\n",
    "sns.boxplot(x='Class', y='Amount', data=df)\n",
    "plt.title('Transaction Amount by Class')\n",
    "plt.xticks([0,1], ['Normal', 'Fraud'])\n",
    "plt.show()"
   ]
  },
  {
   "cell_type": "markdown",
   "id": "f6322729",
   "metadata": {},
   "source": [
    "## PCA 특성들 간 상관관계 분석"
   ]
  },
  {
   "cell_type": "code",
   "execution_count": 15,
   "id": "014bc6e7-f9f7-43f5-abf9-5dd07e1bba78",
   "metadata": {},
   "outputs": [
    {
     "data": {
      "image/png": "[encoded data removed]",
      "text/plain": [
       "<Figure size 1400x1000 with 2 Axes>"
      ]
     },
     "metadata": {},
     "output_type": "display_data"
    }
   ],
   "source": [
    "# 상관 관계 히트맵\n",
    "corr = df.corr()\n",
    "plt.figure(figsize=(14,10))\n",
    "sns.heatmap(corr, cmap='coolwarm', center=0, linewidths=0.1)\n",
    "plt.title('Correlation Heatmap')\n",
    "plt.show()"
   ]
  },
  {
   "cell_type": "markdown",
   "id": "fed8e1b5",
   "metadata": {},
   "source": [
    "## Time, Amount 정규화"
   ]
  },
  {
   "cell_type": "code",
   "execution_count": 16,
   "id": "394f1da3-f973-4fff-930d-b40d5d2c92dc",
   "metadata": {},
   "outputs": [],
   "source": [
    "from sklearn.preprocessing import StandardScaler\n",
    "\n",
    "# 정규화할 새로운 열 생성\n",
    "df['scaled_amount'] = StandardScaler().fit_transform(df[['Amount']])\n",
    "df['scaled_time'] = StandardScaler().fit_transform(df[['Time']])\n",
    "\n",
    "# 원래 열 제거\n",
    "df.drop(['Amount', 'Time'], axis=1, inplace=True)"
   ]
  },
  {
   "cell_type": "markdown",
   "id": "fef1ff47",
   "metadata": {},
   "source": [
    "## 데이터 분리 (입력/정답 + Train/Test)"
   ]
  },
  {
   "cell_type": "code",
   "execution_count": 17,
   "id": "fe23b00c-400c-47b5-9fb6-ae1a118fb830",
   "metadata": {},
   "outputs": [
    {
     "name": "stdout",
     "output_type": "stream",
     "text": [
      "Train 사기 비율: 0.00173\n",
      "Test 사기 비율: 0.00172\n"
     ]
    }
   ],
   "source": [
    "from sklearn.model_selection import train_test_split\n",
    "\n",
    "X = df.drop('Class', axis=1)\n",
    "y = df['Class']\n",
    "\n",
    "# 시계열 보존을 고려하지 않는 일반적인 분리 (Stratify 옵션으로 클래스 비율 유지)\n",
    "X_train, X_test, y_train, y_test = train_test_split(\n",
    "    X, y, test_size=0.2, random_state=42, stratify=y\n",
    ")\n",
    "\n",
    "print(f\"Train 사기 비율: {y_train.mean():.5f}\")\n",
    "print(f\"Test 사기 비율: {y_test.mean():.5f}\")"
   ]
  },
  {
   "cell_type": "markdown",
   "id": "00750d27",
   "metadata": {},
   "source": [
    "## 언더샘플링"
   ]
  },
  {
   "cell_type": "code",
   "execution_count": 18,
   "id": "16f8c023-c78a-436e-abd4-bab70b374cc7",
   "metadata": {},
   "outputs": [
    {
     "name": "stdout",
     "output_type": "stream",
     "text": [
      "언더샘플링 후 클래스 비율: 1    0.5\n",
      "0    0.5\n",
      "Name: proportion, dtype: float64\n"
     ]
    }
   ],
   "source": [
    "# 정상 거래 중 일부 샘플링\n",
    "normal_train = X_train[y_train == 0]\n",
    "fraud_train = X_train[y_train == 1]\n",
    "\n",
    "normal_train_sampled = normal_train.sample(n=len(fraud_train), random_state=42)\n",
    "X_under = pd.concat([normal_train_sampled, fraud_train])\n",
    "y_under = pd.Series([0]*len(fraud_train) + [1]*len(fraud_train))\n",
    "\n",
    "# 셔플\n",
    "from sklearn.utils import shuffle\n",
    "X_under, y_under = shuffle(X_under, y_under, random_state=42)\n",
    "\n",
    "print(f\"언더샘플링 후 클래스 비율: {y_under.value_counts(normalize=True)}\")"
   ]
  },
  {
   "cell_type": "markdown",
   "id": "d4f1a657",
   "metadata": {},
   "source": [
    "## 오버샘플링 (SMOTE)"
   ]
  },
  {
   "cell_type": "code",
   "execution_count": 19,
   "id": "be784d3c-c818-47dc-b4d4-635dc1e7e211",
   "metadata": {},
   "outputs": [
    {
     "name": "stdout",
     "output_type": "stream",
     "text": [
      "SMOTE 적용 후 클래스 비율: Class\n",
      "0    0.5\n",
      "1    0.5\n",
      "Name: proportion, dtype: float64\n"
     ]
    }
   ],
   "source": [
    "from imblearn.over_sampling import SMOTE\n",
    "\n",
    "smote = SMOTE(random_state=42)\n",
    "X_over, y_over = smote.fit_resample(X_train, y_train)\n",
    "\n",
    "print(f\"SMOTE 적용 후 클래스 비율: {y_over.value_counts(normalize=True)}\")"
   ]
  },
  {
   "cell_type": "markdown",
   "id": "23ee50a0",
   "metadata": {},
   "source": [
    "## 로지스틱 회귀 모델 준비"
   ]
  },
  {
   "cell_type": "code",
   "execution_count": 20,
   "id": "a6bf2e13-97e1-4b44-8ba4-b96a2f35138b",
   "metadata": {},
   "outputs": [],
   "source": [
    "from sklearn.linear_model import LogisticRegression\n",
    "from sklearn.metrics import classification_report, confusion_matrix, roc_auc_score\n",
    "\n",
    "\n",
    "def evaluate_model(X_train, y_train, X_test, y_test, label=\"\"):\n",
    "    model = LogisticRegression(max_iter=1000, random_state=42)\n",
    "    model.fit(X_train, y_train)\n",
    "    y_pred = model.predict(X_test)\n",
    "    y_prob = model.predict_proba(X_test)[:, 1]\n",
    "\n",
    "    print(f\"\\n[{label}] 성능 평가 결과\")\n",
    "    print(confusion_matrix(y_test, y_pred))\n",
    "    print(classification_report(y_test, y_pred, digits=4))\n",
    "    print(\"ROC AUC Score:\", roc_auc_score(y_test, y_prob))"
   ]
  },
  {
   "cell_type": "markdown",
   "id": "38d13da1",
   "metadata": {},
   "source": [
    "## 언더샘플링 → 모델 학습 및 평가"
   ]
  },
  {
   "cell_type": "code",
   "execution_count": 21,
   "id": "e000ce93",
   "metadata": {},
   "outputs": [
    {
     "name": "stdout",
     "output_type": "stream",
     "text": [
      "\n",
      "[언더샘플링] 성능 평가 결과\n",
      "[[54613  2251]\n",
      " [    8    90]]\n",
      "              precision    recall  f1-score   support\n",
      "\n",
      "           0     0.9999    0.9604    0.9797     56864\n",
      "           1     0.0384    0.9184    0.0738        98\n",
      "\n",
      "    accuracy                         0.9603     56962\n",
      "   macro avg     0.5191    0.9394    0.5268     56962\n",
      "weighted avg     0.9982    0.9603    0.9782     56962\n",
      "\n",
      "ROC AUC Score: 0.9759546228451987\n"
     ]
    }
   ],
   "source": [
    "evaluate_model(X_under, y_under, X_test, y_test, label=\"언더샘플링\")"
   ]
  },
  {
   "cell_type": "markdown",
   "id": "e91a8ef0",
   "metadata": {},
   "source": [
    "## SMOTE 오버샘플링 → 모델 학습 및 평가"
   ]
  },
  {
   "cell_type": "code",
   "execution_count": 22,
   "id": "44dacb84",
   "metadata": {},
   "outputs": [
    {
     "name": "stdout",
     "output_type": "stream",
     "text": [
      "\n",
      "[SMOTE 오버샘플링] 성능 평가 결과\n",
      "[[55406  1458]\n",
      " [    8    90]]\n",
      "              precision    recall  f1-score   support\n",
      "\n",
      "           0     0.9999    0.9744    0.9869     56864\n",
      "           1     0.0581    0.9184    0.1094        98\n",
      "\n",
      "    accuracy                         0.9743     56962\n",
      "   macro avg     0.5290    0.9464    0.5481     56962\n",
      "weighted avg     0.9982    0.9743    0.9854     56962\n",
      "\n",
      "ROC AUC Score: 0.9698482164390798\n"
     ]
    }
   ],
   "source": [
    "evaluate_model(X_over, y_over, X_test, y_test, label=\"SMOTE 오버샘플링\")"
   ]
  },
  {
   "cell_type": "markdown",
   "id": "da273b09",
   "metadata": {},
   "source": [
    "### 📊 언더샘플링 vs SMOTE 오버샘플링 성능 비교\n",
    "\n",
    "| 항목                         | 언더샘플링         | SMOTE 오버샘플링     |\n",
    "|------------------------------|--------------------|----------------------|\n",
    "| **Precision (사기 거래)**     | 0.0834             | **0.1094**          |\n",
    "| **Recall (사기 거래)**        | **0.9184**        | **0.9184**          |\n",
    "| **F1-score (사기 거래)**      | 0.0738             | **0.1940**         |\n",
    "| **Accuracy**                 | 0.9603             | **0.9743**          |\n",
    "| **ROC AUC Score**           | **0.9759**        | 0.9698               |\n",
    "| **총 테스트 샘플 수**         | 56,962             | 56,962               |\n",
    "\n",
    "---\n",
    "\n",
    "###  요약\n",
    "\n",
    "- **Recall**은 두 방식 모두 매우 우수하여 대부분의 사기 거래를 잘 잡아냄.\n",
    "- **SMOTE**는 Precision과 F1-score에서 더 뛰어나 **예측 균형이 좋음**.\n",
    "- **언더샘플링**은 간단하지만 오탐(FP)이 많을 수 있어 실무 활용에 주의 필요.\n"
   ]
  },
  {
   "cell_type": "markdown",
   "id": "c79d9b26",
   "metadata": {},
   "source": [
    "## 공통 평가 함수"
   ]
  },
  {
   "cell_type": "code",
   "execution_count": 23,
   "id": "f517ea8f",
   "metadata": {},
   "outputs": [],
   "source": [
    "from sklearn.metrics import classification_report, confusion_matrix, roc_auc_score\n",
    "from xgboost import XGBClassifier\n",
    "\n",
    "\n",
    "def evaluate_xgboost(X_train, y_train, X_test, y_test, label=\"\"):\n",
    "    model = XGBClassifier(\n",
    "        n_estimators=100,\n",
    "        max_depth=4,\n",
    "        eval_metric='logloss',\n",
    "        random_state=42\n",
    "    )\n",
    "    model.fit(X_train, y_train)\n",
    "    y_pred = model.predict(X_test)\n",
    "    y_prob = model.predict_proba(X_test)[:, 1]\n",
    "\n",
    "    print(f\"\\n[XGBoost - {label}] 성능 평가 결과\")\n",
    "    print(confusion_matrix(y_test, y_pred))\n",
    "    print(classification_report(y_test, y_pred, digits=4))\n",
    "    print(\"ROC AUC Score:\", roc_auc_score(y_test, y_prob))"
   ]
  },
  {
   "cell_type": "markdown",
   "id": "cce2d121",
   "metadata": {},
   "source": [
    "## XGBoost - 언더샘플링 평가"
   ]
  },
  {
   "cell_type": "code",
   "execution_count": 24,
   "id": "3d71c493",
   "metadata": {},
   "outputs": [
    {
     "name": "stdout",
     "output_type": "stream",
     "text": [
      "\n",
      "[XGBoost - 언더샘플링] 성능 평가 결과\n",
      "[[54432  2432]\n",
      " [    8    90]]\n",
      "              precision    recall  f1-score   support\n",
      "\n",
      "           0     0.9999    0.9572    0.9781     56864\n",
      "           1     0.0357    0.9184    0.0687        98\n",
      "\n",
      "    accuracy                         0.9572     56962\n",
      "   macro avg     0.5178    0.9378    0.5234     56962\n",
      "weighted avg     0.9982    0.9572    0.9765     56962\n",
      "\n",
      "ROC AUC Score: 0.9742044749807632\n"
     ]
    }
   ],
   "source": [
    "evaluate_xgboost(X_under, y_under, X_test, y_test, label=\"언더샘플링\")"
   ]
  },
  {
   "cell_type": "markdown",
   "id": "26063a8d",
   "metadata": {},
   "source": [
    "## XGBoost - SMOTE 오버샘플링 평가"
   ]
  },
  {
   "cell_type": "code",
   "execution_count": 25,
   "id": "722a12ad",
   "metadata": {},
   "outputs": [
    {
     "name": "stdout",
     "output_type": "stream",
     "text": [
      "\n",
      "[XGBoost - SMOTE 오버샘플링] 성능 평가 결과\n",
      "[[56748   116]\n",
      " [   13    85]]\n",
      "              precision    recall  f1-score   support\n",
      "\n",
      "           0     0.9998    0.9980    0.9989     56864\n",
      "           1     0.4229    0.8673    0.5686        98\n",
      "\n",
      "    accuracy                         0.9977     56962\n",
      "   macro avg     0.7113    0.9327    0.7837     56962\n",
      "weighted avg     0.9988    0.9977    0.9981     56962\n",
      "\n",
      "ROC AUC Score: 0.980199983060191\n"
     ]
    }
   ],
   "source": [
    "evaluate_xgboost(X_over, y_over, X_test, y_test, label=\"SMOTE 오버샘플링\")"
   ]
  },
  {
   "cell_type": "markdown",
   "id": "19328de9",
   "metadata": {},
   "source": [
    "### 📊 XGBoost: 언더샘플링 vs SMOTE 오버샘플링 성능 비교\n",
    "\n",
    "| 항목                         | 언더샘플링         | SMOTE 오버샘플링     |\n",
    "|------------------------------|--------------------|----------------------|\n",
    "| **Precision (사기 거래)**     | 0.0357             | **0.4229**          |\n",
    "| **Recall (사기 거래)**        | 0.9184             | **0.8673**           |\n",
    "| **F1-score (사기 거래)**      | 0.0687             | **0.5686**          |\n",
    "| **Accuracy**                 | 0.9572             | **0.9977**          |\n",
    "| **ROC AUC Score**           | 0.9742             | **0.9801**          |\n",
    "| **총 테스트 샘플 수**         | 56,962             | 56,962               |\n",
    "\n",
    "---\n",
    "\n",
    "###  해석 요약\n",
    "\n",
    "- **SMOTE 오버샘플링 + XGBoost** 조합이 Precision, F1-score, AUC 모두에서 매우 우수함.\n"
   ]
  },
  {
   "cell_type": "markdown",
   "id": "5a81deff",
   "metadata": {},
   "source": [
    "## Random Forest 모델 평가 함수"
   ]
  },
  {
   "cell_type": "code",
   "execution_count": 26,
   "id": "b09d88fa",
   "metadata": {},
   "outputs": [],
   "source": [
    "from sklearn.ensemble import RandomForestClassifier\n",
    "from sklearn.metrics import classification_report, confusion_matrix, roc_auc_score\n",
    "\n",
    "\n",
    "def evaluate_rf(X_train, y_train, X_test, y_test, label=\"\"):\n",
    "    model = RandomForestClassifier(\n",
    "        n_estimators=100,\n",
    "        max_depth=10,\n",
    "        random_state=42\n",
    "    )\n",
    "    model.fit(X_train, y_train)\n",
    "    y_pred = model.predict(X_test)\n",
    "    y_prob = model.predict_proba(X_test)[:, 1]\n",
    "\n",
    "    print(f\"\\n[Random Forest - {label}] 성능 평가 결과\")\n",
    "    print(confusion_matrix(y_test, y_pred))\n",
    "    print(classification_report(y_test, y_pred, digits=4))\n",
    "    print(\"ROC AUC Score:\", roc_auc_score(y_test, y_prob))"
   ]
  },
  {
   "cell_type": "markdown",
   "id": "1034b17a",
   "metadata": {},
   "source": [
    "## SMOTE + Random Forest 적용 및 평가"
   ]
  },
  {
   "cell_type": "code",
   "execution_count": 27,
   "id": "f40b1790",
   "metadata": {},
   "outputs": [
    {
     "name": "stdout",
     "output_type": "stream",
     "text": [
      "\n",
      "[Random Forest - SMOTE 오버샘플링] 성능 평가 결과\n",
      "[[56749   115]\n",
      " [   15    83]]\n",
      "              precision    recall  f1-score   support\n",
      "\n",
      "           0     0.9997    0.9980    0.9989     56864\n",
      "           1     0.4192    0.8469    0.5608        98\n",
      "\n",
      "    accuracy                         0.9977     56962\n",
      "   macro avg     0.7095    0.9225    0.7798     56962\n",
      "weighted avg     0.9987    0.9977    0.9981     56962\n",
      "\n",
      "ROC AUC Score: 0.9799987331032582\n"
     ]
    }
   ],
   "source": [
    "evaluate_rf(X_over, y_over, X_test, y_test, label=\"SMOTE 오버샘플링\")"
   ]
  },
  {
   "cell_type": "markdown",
   "id": "8e9b2cbe",
   "metadata": {},
   "source": [
    "### 📊 SMOTE + 모델별 성능 비교표\n",
    "\n",
    "| 모델               | Precision (사기) | Recall (사기) | F1-score (사기) | Accuracy | AUC Score |\n",
    "|--------------------|------------------|----------------|------------------|-----------|------------|\n",
    "| **LogisticRegression** | 0.1094           | 0.9184         | 0.1940           | 0.9743    | 0.9698     |\n",
    "| **XGBoost**            | **0.4229**      | 0.8673         | **0.5686**      | **0.9977**  | **0.9801**  |\n",
    "| **Random Forest**      | 0.4192           | **0.8469**     | 0.5608           | **0.9977**  | 0.9799     |\n",
    "\n",
    "---\n",
    "\n",
    "###  해석 요약\n",
    "\n",
    "- **Precision / F1-score / AUC** 기준으로는 **XGBoost + SMOTE** 조합이 가장 우수함.\n",
    "- **Random Forest + SMOTE**도 거의 유사한 성능을 보여줌.\n",
    "- **Logistic Regression**은 해석 가능성은 높지만, 성능면에서는 뒤처짐.\n",
    "- 두 트리 기반 모델은 실제 **사기 거래 탐지율(Recall)**을 유지하면서 **오탐을 크게 줄임**.\n",
    "\n",
    "---\n",
    "\n",
    "###  결론\n",
    "\n",
    "- **XGBoost + SMOTE**: 실무 적용, 성능 최적화 모두 만족하는 전략\n",
    "- **RandomForest + SMOTE**: 해석 가능한 트리 기반 모델을 선호할 경우 대안\n",
    "- **Logistic Regression**: 기준선(Baseline) 모델 또는 단순 예측용"
   ]
  }
 ],
 "metadata": {
  "kernelspec": {
   "display_name": "base",
   "language": "python",
   "name": "python3"
  },
  "language_info": {
   "codemirror_mode": {
    "name": "ipython",
    "version": 3
   },
   "file_extension": ".py",
   "mimetype": "text/x-python",
   "name": "python",
   "nbconvert_exporter": "python",
   "pygments_lexer": "ipython3",
   "version": "3.12.4"
  }
 },
 "nbformat": 4,
 "nbformat_minor": 5
}
